{
 "cells": [
  {
   "cell_type": "code",
   "execution_count": 11,
   "id": "infectious-saudi",
   "metadata": {},
   "outputs": [],
   "source": [
    "from ddrules import *\n",
    "\n",
    "x = ['coronavirus sars-cov-2', 'sars-cov-2', 'sars-cov-1', \n",
    "'cov-2', 'covid cov3', 'cov-1']\n",
    "y = ['serine','chloroquine','hydroxychloroquine','nucleotide',\n",
    " 'remdesivir','lopinavir','ritonavir','arbidol','favipiravir']\n",
    "z = ddRules()\n",
    "for i in x:\n",
    "    z.addRule(i, y)\n",
    "z.generateBatchRules()"
   ]
  },
  {
   "cell_type": "code",
   "execution_count": 21,
   "id": "unknown-washer",
   "metadata": {
    "scrolled": true
   },
   "outputs": [
    {
     "name": "stdout",
     "output_type": "stream",
     "text": [
      "coronavirus SARS-CoV-2|SARS-CoV-2\n"
     ]
    },
    {
     "ename": "TypeError",
     "evalue": "'Int64Index' object is not callable",
     "output_type": "error",
     "traceback": [
      "\u001b[0;31m---------------------------------------------------------------------------\u001b[0m",
      "\u001b[0;31mTypeError\u001b[0m                                 Traceback (most recent call last)",
      "\u001b[0;32m<ipython-input-21-e02a17209791>\u001b[0m in \u001b[0;36m<module>\u001b[0;34m\u001b[0m\n\u001b[1;32m     24\u001b[0m \u001b[0mfoo\u001b[0m \u001b[0;34m=\u001b[0m \u001b[0mddMain\u001b[0m\u001b[0;34m(\u001b[0m\u001b[0;34m)\u001b[0m\u001b[0;34m\u001b[0m\u001b[0;34m\u001b[0m\u001b[0m\n\u001b[1;32m     25\u001b[0m \u001b[0mfoo\u001b[0m\u001b[0;34m.\u001b[0m\u001b[0minitDataset\u001b[0m\u001b[0;34m(\u001b[0m\u001b[0;34m'dataset/covid_results.csv'\u001b[0m\u001b[0;34m,\u001b[0m \u001b[0;34m'dataset/covid-keywords.txt'\u001b[0m\u001b[0;34m)\u001b[0m\u001b[0;34m\u001b[0m\u001b[0;34m\u001b[0m\u001b[0m\n\u001b[0;32m---> 26\u001b[0;31m \u001b[0mfoo\u001b[0m\u001b[0;34m.\u001b[0m\u001b[0mRunExperiments\u001b[0m\u001b[0;34m(\u001b[0m\u001b[0;36m15\u001b[0m\u001b[0;34m,\u001b[0m \u001b[0;36m0.5\u001b[0m\u001b[0;34m)\u001b[0m\u001b[0;34m\u001b[0m\u001b[0;34m\u001b[0m\u001b[0m\n\u001b[0m",
      "\u001b[0;32m<ipython-input-21-e02a17209791>\u001b[0m in \u001b[0;36mRunExperiments\u001b[0;34m(self, ms, th)\u001b[0m\n\u001b[1;32m     10\u001b[0m             \u001b[0mprint\u001b[0m\u001b[0;34m(\u001b[0m\u001b[0mi\u001b[0m\u001b[0;34m)\u001b[0m\u001b[0;34m\u001b[0m\u001b[0;34m\u001b[0m\u001b[0m\n\u001b[1;32m     11\u001b[0m             \u001b[0mls_ds\u001b[0m \u001b[0;34m=\u001b[0m \u001b[0mi\u001b[0m\u001b[0;34m.\u001b[0m\u001b[0mlower\u001b[0m\u001b[0;34m(\u001b[0m\u001b[0;34m)\u001b[0m\u001b[0;34m.\u001b[0m\u001b[0msplit\u001b[0m\u001b[0;34m(\u001b[0m\u001b[0;34m\"|\"\u001b[0m\u001b[0;34m)\u001b[0m\u001b[0;34m\u001b[0m\u001b[0;34m\u001b[0m\u001b[0m\n\u001b[0;32m---> 12\u001b[0;31m             \u001b[0mls_dr\u001b[0m \u001b[0;34m=\u001b[0m \u001b[0mself\u001b[0m\u001b[0;34m.\u001b[0m\u001b[0mdata\u001b[0m\u001b[0;34m.\u001b[0m\u001b[0mlsdatadrug\u001b[0m\u001b[0;34m[\u001b[0m\u001b[0mself\u001b[0m\u001b[0;34m.\u001b[0m\u001b[0mdata\u001b[0m\u001b[0;34m.\u001b[0m\u001b[0mlsdatadisease\u001b[0m\u001b[0;34m.\u001b[0m\u001b[0mindex\u001b[0m\u001b[0;34m(\u001b[0m\u001b[0mi\u001b[0m\u001b[0;34m)\u001b[0m\u001b[0;34m]\u001b[0m\u001b[0;34m.\u001b[0m\u001b[0mlower\u001b[0m\u001b[0;34m(\u001b[0m\u001b[0;34m)\u001b[0m\u001b[0;34m.\u001b[0m\u001b[0msplit\u001b[0m\u001b[0;34m(\u001b[0m\u001b[0;34m\"|\"\u001b[0m\u001b[0;34m)\u001b[0m\u001b[0;34m\u001b[0m\u001b[0;34m\u001b[0m\u001b[0m\n\u001b[0m\u001b[1;32m     13\u001b[0m             \u001b[0;32mfor\u001b[0m \u001b[0mj\u001b[0m \u001b[0;32min\u001b[0m \u001b[0mrange\u001b[0m\u001b[0;34m(\u001b[0m\u001b[0mlen\u001b[0m\u001b[0;34m(\u001b[0m\u001b[0mls_ds\u001b[0m\u001b[0;34m)\u001b[0m\u001b[0;34m)\u001b[0m\u001b[0;34m:\u001b[0m\u001b[0;34m\u001b[0m\u001b[0;34m\u001b[0m\u001b[0m\n\u001b[1;32m     14\u001b[0m                 \u001b[0;32mif\u001b[0m \u001b[0many\u001b[0m\u001b[0;34m(\u001b[0m\u001b[0mn\u001b[0m \u001b[0;32min\u001b[0m \u001b[0mls_ds\u001b[0m\u001b[0;34m[\u001b[0m\u001b[0mj\u001b[0m\u001b[0;34m]\u001b[0m \u001b[0;32mfor\u001b[0m \u001b[0mn\u001b[0m \u001b[0;32min\u001b[0m \u001b[0mckey\u001b[0m\u001b[0;34m)\u001b[0m\u001b[0;34m:\u001b[0m\u001b[0;34m\u001b[0m\u001b[0;34m\u001b[0m\u001b[0m\n",
      "\u001b[0;31mTypeError\u001b[0m: 'Int64Index' object is not callable"
     ]
    }
   ],
   "source": [
    "class ddMain():\n",
    "    def __init__(self):\n",
    "        self.data = []\n",
    "        \n",
    "    def RunExperiments(self, ms, th):\n",
    "        minSup = ms\n",
    "        thresh = th\n",
    "        self.theRules = ddRules()\n",
    "        for i in range(len(self.data.lsdatadisease)):\n",
    "            str_ds = self.data.lsdatadisease[i]\n",
    "            str_dr = self.data.lsdatadrug[i]\n",
    "            ls_ds = str_ds.lower().split(\"|\")\n",
    "            ls_dr = str_dr.lower().split(\"|\")\n",
    "            for j in range(len(ls_ds)):\n",
    "                if any(n in ls_ds[j] for n in ckey):\n",
    "                    self.theRules.addRule(ls_ds[j], ls_dr)\n",
    "        print(self.theRules.countRules())\n",
    "        print(self.theRules.showRules())\n",
    "\n",
    "    def initDataset(self, spathData, spathKey):\n",
    "        self.data = ddDataset(spathData)\n",
    "        self.data.selectFeatures()\n",
    "        self.data.setFilterKeyword(spathKey)\n",
    "\n",
    "foo = ddMain()\n",
    "foo.initDataset('dataset/covid_results.csv', 'dataset/covid-keywords.txt')\n",
    "foo.RunExperiments(15, 0.5)"
   ]
  },
  {
   "cell_type": "code",
   "execution_count": 7,
   "id": "structural-nitrogen",
   "metadata": {},
   "outputs": [
    {
     "name": "stdout",
     "output_type": "stream",
     "text": [
      "(\"['coronavirus sars-cov-2', 'sars-cov-2', 'cov-2'] -> serine\", 3)\n",
      "(\"['coronavirus sars-cov-2', 'sars-cov-2', 'cov-2'] -> chloroquine\", 3)\n",
      "(\"['coronavirus sars-cov-2', 'sars-cov-2', 'cov-2'] -> hydroxychloroquine\", 3)\n",
      "(\"['coronavirus sars-cov-2', 'sars-cov-2', 'cov-2'] -> nucleotide\", 3)\n",
      "(\"['coronavirus sars-cov-2', 'sars-cov-2', 'cov-2'] -> remdesivir\", 3)\n",
      "(\"['coronavirus sars-cov-2', 'sars-cov-2', 'cov-2'] -> lopinavir\", 3)\n",
      "(\"['coronavirus sars-cov-2', 'sars-cov-2', 'cov-2'] -> ritonavir\", 3)\n",
      "(\"['coronavirus sars-cov-2', 'sars-cov-2', 'cov-2'] -> arbidol\", 3)\n",
      "(\"['coronavirus sars-cov-2', 'sars-cov-2', 'cov-2'] -> favipiravir\", 3)\n",
      "(\"['sars-cov-1', 'cov-1'] -> serine\", 2)\n",
      "(\"['sars-cov-1', 'cov-1'] -> chloroquine\", 2)\n",
      "(\"['sars-cov-1', 'cov-1'] -> hydroxychloroquine\", 2)\n",
      "(\"['sars-cov-1', 'cov-1'] -> nucleotide\", 2)\n",
      "(\"['sars-cov-1', 'cov-1'] -> remdesivir\", 2)\n",
      "(\"['sars-cov-1', 'cov-1'] -> lopinavir\", 2)\n",
      "(\"['sars-cov-1', 'cov-1'] -> ritonavir\", 2)\n",
      "(\"['sars-cov-1', 'cov-1'] -> arbidol\", 2)\n",
      "(\"['sars-cov-1', 'cov-1'] -> favipiravir\", 2)\n"
     ]
    }
   ],
   "source": [
    "z.showBatchRules()"
   ]
  },
  {
   "cell_type": "code",
   "execution_count": 8,
   "id": "latest-blanket",
   "metadata": {},
   "outputs": [
    {
     "name": "stdout",
     "output_type": "stream",
     "text": [
      "ritonavir\n",
      "arbidol\n",
      "hydroxychloroquine\n",
      "chloroquine\n",
      "favipiravir\n",
      "serine\n",
      "remdesivir\n",
      "nucleotide\n",
      "lopinavir\n"
     ]
    }
   ],
   "source": [
    "z.showPotentialDrugs()"
   ]
  },
  {
   "cell_type": "code",
   "execution_count": null,
   "id": "minus-canada",
   "metadata": {},
   "outputs": [],
   "source": []
  }
 ],
 "metadata": {
  "kernelspec": {
   "display_name": "Python 3",
   "language": "python",
   "name": "python3"
  },
  "language_info": {
   "codemirror_mode": {
    "name": "ipython",
    "version": 3
   },
   "file_extension": ".py",
   "mimetype": "text/x-python",
   "name": "python",
   "nbconvert_exporter": "python",
   "pygments_lexer": "ipython3",
   "version": "3.8.5"
  }
 },
 "nbformat": 4,
 "nbformat_minor": 5
}
